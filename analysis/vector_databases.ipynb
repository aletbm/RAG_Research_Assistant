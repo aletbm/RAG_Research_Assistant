{
 "cells": [
  {
   "cell_type": "code",
   "execution_count": 1,
   "id": "166d7817",
   "metadata": {},
   "outputs": [],
   "source": [
    "DATA_PATH = \"../data/\""
   ]
  },
  {
   "cell_type": "code",
   "execution_count": 1,
   "id": "8712b115",
   "metadata": {},
   "outputs": [
    {
     "name": "stderr",
     "output_type": "stream",
     "text": [
      "\n",
      "[notice] A new release of pip available: 22.3.1 -> 25.2\n",
      "[notice] To update, run: python.exe -m pip install --upgrade pip\n"
     ]
    }
   ],
   "source": [
    "!pip install fastembed hf_xet -q"
   ]
  },
  {
   "cell_type": "code",
   "execution_count": null,
   "id": "e0844c54",
   "metadata": {},
   "outputs": [
    {
     "data": {
      "text/html": [
       "<div>\n",
       "<style scoped>\n",
       "    .dataframe tbody tr th:only-of-type {\n",
       "        vertical-align: middle;\n",
       "    }\n",
       "\n",
       "    .dataframe tbody tr th {\n",
       "        vertical-align: top;\n",
       "    }\n",
       "\n",
       "    .dataframe thead th {\n",
       "        text-align: right;\n",
       "    }\n",
       "</style>\n",
       "<table border=\"1\" class=\"dataframe\">\n",
       "  <thead>\n",
       "    <tr style=\"text-align: right;\">\n",
       "      <th></th>\n",
       "      <th>id</th>\n",
       "      <th>title</th>\n",
       "      <th>categories</th>\n",
       "      <th>abstract_chunk</th>\n",
       "      <th>id_chunk</th>\n",
       "      <th>authors</th>\n",
       "      <th>url</th>\n",
       "      <th>published</th>\n",
       "      <th>year</th>\n",
       "    </tr>\n",
       "  </thead>\n",
       "  <tbody>\n",
       "    <tr>\n",
       "      <th>0</th>\n",
       "      <td>0</td>\n",
       "      <td>Structure-Attribute Transformations with Marko...</td>\n",
       "      <td>cs.LG</td>\n",
       "      <td>title : structure - attribute transformations ...</td>\n",
       "      <td>0</td>\n",
       "      <td>Zhen Liu, Yongtao Zhang, Shaobo Ren, Yuxin You</td>\n",
       "      <td>http://arxiv.org/abs/2509.21059v1</td>\n",
       "      <td>2025-09-25 12:09:53+00:00</td>\n",
       "      <td>2025</td>\n",
       "    </tr>\n",
       "    <tr>\n",
       "      <th>1</th>\n",
       "      <td>1</td>\n",
       "      <td>MAIFormer: Multi-Agent Inverted Transformer fo...</td>\n",
       "      <td>cs.LG</td>\n",
       "      <td>title : maiformer : multi - agent inverted tra...</td>\n",
       "      <td>0</td>\n",
       "      <td>Seokbin Yoon, Keumjin Lee</td>\n",
       "      <td>http://arxiv.org/abs/2509.21004v1</td>\n",
       "      <td>2025-09-25 10:59:29+00:00</td>\n",
       "      <td>2025</td>\n",
       "    </tr>\n",
       "    <tr>\n",
       "      <th>2</th>\n",
       "      <td>2</td>\n",
       "      <td>Why Attention Fails: The Degeneration of Trans...</td>\n",
       "      <td>cs.LG</td>\n",
       "      <td>title : why attention fails : the degeneration...</td>\n",
       "      <td>0</td>\n",
       "      <td>Zida Liang, Jiayi Zhu, Weiqiang Sun</td>\n",
       "      <td>http://arxiv.org/abs/2509.20942v1</td>\n",
       "      <td>2025-09-25 09:25:51+00:00</td>\n",
       "      <td>2025</td>\n",
       "    </tr>\n",
       "    <tr>\n",
       "      <th>3</th>\n",
       "      <td>3</td>\n",
       "      <td>FHRFormer: A Self-supervised Transformer Appro...</td>\n",
       "      <td>cs.LG, cs.AI, cs.CE, cs.CV</td>\n",
       "      <td>title : fhrformer : a self - supervised transf...</td>\n",
       "      <td>0</td>\n",
       "      <td>Kjersti Engan, Neel Kanwal, Anita Yeconia, Lad...</td>\n",
       "      <td>http://arxiv.org/abs/2509.20852v1</td>\n",
       "      <td>2025-09-25 07:40:21+00:00</td>\n",
       "      <td>2025</td>\n",
       "    </tr>\n",
       "    <tr>\n",
       "      <th>4</th>\n",
       "      <td>4</td>\n",
       "      <td>T2I-Diff: fMRI Signal Generation via Time-Freq...</td>\n",
       "      <td>cs.LG</td>\n",
       "      <td>title : t2i - diff : fmri signal generation vi...</td>\n",
       "      <td>0</td>\n",
       "      <td>Hwa Hui Tew, Junn Yong Loo, Yee-Fan Tan, Xinyu...</td>\n",
       "      <td>http://arxiv.org/abs/2509.20822v1</td>\n",
       "      <td>2025-09-25 07:08:19+00:00</td>\n",
       "      <td>2025</td>\n",
       "    </tr>\n",
       "  </tbody>\n",
       "</table>\n",
       "</div>"
      ],
      "text/plain": [
       "   id                                              title  \\\n",
       "0   0  Structure-Attribute Transformations with Marko...   \n",
       "1   1  MAIFormer: Multi-Agent Inverted Transformer fo...   \n",
       "2   2  Why Attention Fails: The Degeneration of Trans...   \n",
       "3   3  FHRFormer: A Self-supervised Transformer Appro...   \n",
       "4   4  T2I-Diff: fMRI Signal Generation via Time-Freq...   \n",
       "\n",
       "                   categories  \\\n",
       "0                       cs.LG   \n",
       "1                       cs.LG   \n",
       "2                       cs.LG   \n",
       "3  cs.LG, cs.AI, cs.CE, cs.CV   \n",
       "4                       cs.LG   \n",
       "\n",
       "                                      abstract_chunk  id_chunk  \\\n",
       "0  title : structure - attribute transformations ...         0   \n",
       "1  title : maiformer : multi - agent inverted tra...         0   \n",
       "2  title : why attention fails : the degeneration...         0   \n",
       "3  title : fhrformer : a self - supervised transf...         0   \n",
       "4  title : t2i - diff : fmri signal generation vi...         0   \n",
       "\n",
       "                                             authors  \\\n",
       "0     Zhen Liu, Yongtao Zhang, Shaobo Ren, Yuxin You   \n",
       "1                          Seokbin Yoon, Keumjin Lee   \n",
       "2                Zida Liang, Jiayi Zhu, Weiqiang Sun   \n",
       "3  Kjersti Engan, Neel Kanwal, Anita Yeconia, Lad...   \n",
       "4  Hwa Hui Tew, Junn Yong Loo, Yee-Fan Tan, Xinyu...   \n",
       "\n",
       "                                 url                  published  year  \n",
       "0  http://arxiv.org/abs/2509.21059v1  2025-09-25 12:09:53+00:00  2025  \n",
       "1  http://arxiv.org/abs/2509.21004v1  2025-09-25 10:59:29+00:00  2025  \n",
       "2  http://arxiv.org/abs/2509.20942v1  2025-09-25 09:25:51+00:00  2025  \n",
       "3  http://arxiv.org/abs/2509.20852v1  2025-09-25 07:40:21+00:00  2025  \n",
       "4  http://arxiv.org/abs/2509.20822v1  2025-09-25 07:08:19+00:00  2025  "
      ]
     },
     "execution_count": 14,
     "metadata": {},
     "output_type": "execute_result"
    }
   ],
   "source": [
    "import pandas as pd\n",
    "\n",
    "df = pd.read_parquet(DATA_PATH+\"articles_chunks.parquet\")\n",
    "df.head()"
   ]
  },
  {
   "cell_type": "code",
   "execution_count": null,
   "id": "0c4a93fa",
   "metadata": {},
   "outputs": [
    {
     "data": {
      "text/plain": [
       "23005"
      ]
     },
     "execution_count": 18,
     "metadata": {},
     "output_type": "execute_result"
    }
   ],
   "source": [
    "df_ = df.copy()\n",
    "df = df_[df_[\"url\"].str.contains(\"arxiv\")]\n",
    "\n",
    "len(df)"
   ]
  },
  {
   "cell_type": "code",
   "execution_count": 5,
   "id": "ff2e22a7",
   "metadata": {},
   "outputs": [],
   "source": [
    "#!pip install torch torchvision torchaudio --index-url https://download.pytorch.org/whl/cu121 -q"
   ]
  },
  {
   "cell_type": "code",
   "execution_count": 6,
   "id": "05406bef",
   "metadata": {},
   "outputs": [
    {
     "name": "stdout",
     "output_type": "stream",
     "text": [
      "True\n"
     ]
    }
   ],
   "source": [
    "import torch\n",
    "\n",
    "print(torch.cuda.is_available())"
   ]
  },
  {
   "cell_type": "code",
   "execution_count": null,
   "id": "c70de403",
   "metadata": {},
   "outputs": [],
   "source": [
    "from fastembed import TextEmbedding\n",
    "\n",
    "model_name = 'BAAI/bge-small-en' #'jinaai/jina-embeddings-v2-base-en'\n",
    "\n",
    "model = TextEmbedding(model_name=model_name, provider=\"torch\", device=\"cuda\")\n",
    "embeddings_query = list(model.embed([df.iloc[0].abstract_chunk]))"
   ]
  },
  {
   "cell_type": "code",
   "execution_count": 20,
   "id": "d2fe857f",
   "metadata": {},
   "outputs": [
    {
     "data": {
      "text/plain": [
       "(384,)"
      ]
     },
     "execution_count": 20,
     "metadata": {},
     "output_type": "execute_result"
    }
   ],
   "source": [
    "embeddings_query[0].shape"
   ]
  },
  {
   "cell_type": "code",
   "execution_count": 21,
   "id": "a551f292",
   "metadata": {},
   "outputs": [
    {
     "name": "stderr",
     "output_type": "stream",
     "text": [
      "Processing: 100%|██████████| 23005/23005 [19:05<00:00, 20.08it/s]\n"
     ]
    }
   ],
   "source": [
    "from tqdm import tqdm\n",
    "\n",
    "embeds = []\n",
    "\n",
    "for _, art in tqdm(df.iterrows(), total=len(df), desc=\"Processing\"):\n",
    "    vector = list(model.embed(art['abstract_chunk']))[0]\n",
    "    if len(vector) > 0:\n",
    "        embeds.append(vector)"
   ]
  },
  {
   "cell_type": "code",
   "execution_count": null,
   "id": "09fad35b",
   "metadata": {},
   "outputs": [
    {
     "data": {
      "text/plain": [
       "(23005, 79337)"
      ]
     },
     "execution_count": 22,
     "metadata": {},
     "output_type": "execute_result"
    }
   ],
   "source": [
    "len(embeds), len(df)"
   ]
  },
  {
   "cell_type": "code",
   "execution_count": null,
   "id": "cb649e53",
   "metadata": {},
   "outputs": [
    {
     "name": "stderr",
     "output_type": "stream",
     "text": [
      "C:\\Users\\Alexander\\AppData\\Local\\Temp\\ipykernel_22396\\439317080.py:1: SettingWithCopyWarning: \n",
      "A value is trying to be set on a copy of a slice from a DataFrame.\n",
      "Try using .loc[row_indexer,col_indexer] = value instead\n",
      "\n",
      "See the caveats in the documentation: https://pandas.pydata.org/pandas-docs/stable/user_guide/indexing.html#returning-a-view-versus-a-copy\n",
      "  df[\"embed\"] = embeds\n"
     ]
    }
   ],
   "source": [
    "df[\"embed\"] = embeds\n",
    "df.to_parquet(DATA_PATH+\"articles_w_embeds.parquet\", engine=\"pyarrow\", index=False)"
   ]
  },
  {
   "cell_type": "code",
   "execution_count": 6,
   "id": "aebc2974",
   "metadata": {},
   "outputs": [],
   "source": [
    "import pandas as pd\n",
    "\n",
    "df = pd.read_parquet(DATA_PATH+\"articles_w_embeds.parquet\")\n",
    "df = df.drop(df[df.title.isna()].index, axis=0)"
   ]
  },
  {
   "cell_type": "code",
   "execution_count": null,
   "id": "ebd8a277",
   "metadata": {},
   "outputs": [],
   "source": [
    "from qdrant_client import QdrantClient, models\n",
    "from tqdm import tqdm\n",
    "\n",
    "def sanitize_payload(art):\n",
    "    return {\n",
    "        \"id\": int(art.id),\n",
    "        \"title\": str(art.title or \"\"),\n",
    "        \"abstract_chunk\": str(art.abstract_chunk or \"\"),\n",
    "        \"categories\": str(art.categories or \"\"),\n",
    "        \"authors\": str(art.authors or \"\"),\n",
    "        \"published\": str(art.published or \"\"),\n",
    "        \"year\": str(art.year or \"\"),\n",
    "        \"url\": str(art.url or \"\")\n",
    "    }\n",
    "\n",
    "def init_collection(collection_name=\"articles-rag\", embed_dim=384, metric=\"cosine\"):\n",
    "    distances = {\"cosine\": models.Distance.COSINE,\n",
    "                 \"dot\": models.Distance.DOT,\n",
    "                 \"euclidean\": models.Distance.EUCLID,\n",
    "                 \"manhattan\": models.Distance.MANHATTAN}\n",
    "\n",
    "    try:\n",
    "        client.delete_collection(collection_name=collection_name)\n",
    "    except Exception as e:\n",
    "        print(f\"Error: {e}\")\n",
    "\n",
    "    client.create_collection(\n",
    "        collection_name=collection_name,\n",
    "        vectors_config=models.VectorParams(\n",
    "            size=embed_dim,\n",
    "            distance=distances[metric],\n",
    "            on_disk=False\n",
    "        )\n",
    "    )\n",
    "    return client\n",
    "\n",
    "def create_vdb(client, data, collection_name=\"articles-rag\", embed_dim=384, metric=\"cosine\", batch_size=1000):\n",
    "    client = init_collection(collection_name=collection_name, embed_dim=embed_dim, metric=metric)\n",
    "    \n",
    "    id_ = 0\n",
    "    points = []\n",
    "\n",
    "    for _, art in tqdm(data.iterrows(), total=len(data), desc=\"Processing\"):\n",
    "        vector = art[\"embed\"]\n",
    "        \n",
    "        if vector is None or len(vector) != embed_dim:\n",
    "            print(f\"Skipping id {art.id} — invalid embedding: {vector}\")\n",
    "            continue\n",
    "\n",
    "        point = models.PointStruct(\n",
    "            id=id_,\n",
    "            vector=vector,\n",
    "            payload=sanitize_payload(art)\n",
    "        )\n",
    "\n",
    "        points.append(point)\n",
    "        id_ += 1\n",
    "        \n",
    "        if len(points) == batch_size:\n",
    "            client.upsert(\n",
    "                collection_name=collection_name,\n",
    "                points=points,\n",
    "                wait=True\n",
    "            )\n",
    "            points = []\n",
    "\n",
    "    if points:\n",
    "        client.upsert(\n",
    "            collection_name=collection_name,\n",
    "            points=points,\n",
    "            wait=True\n",
    "        )\n",
    "    return points\n",
    "\n",
    "EMBEDDING_DIMENSIONALITY = 384\n",
    "BATCH_SIZE = 1000\n",
    "client = QdrantClient(\"http://localhost:6333\", timeout=60.0)\n",
    "\n",
    "#docker run -p 6333:6333 -p 6334:6334 -v ~/qdrant_storage:/qdrant/storage qdrant/qdrant"
   ]
  },
  {
   "cell_type": "code",
   "execution_count": 12,
   "id": "38f09d72",
   "metadata": {},
   "outputs": [
    {
     "name": "stderr",
     "output_type": "stream",
     "text": [
      "Processing: 100%|██████████| 23005/23005 [17:06<00:00, 22.42it/s] \n"
     ]
    }
   ],
   "source": [
    "points = create_vdb(client=client, data=df, collection_name=\"articles-rag-cos\", embed_dim=EMBEDDING_DIMENSIONALITY, metric=\"cosine\", batch_size=BATCH_SIZE)"
   ]
  },
  {
   "cell_type": "code",
   "execution_count": 6,
   "id": "641592dd",
   "metadata": {},
   "outputs": [
    {
     "name": "stderr",
     "output_type": "stream",
     "text": [
      "Processing: 100%|██████████| 23005/23005 [00:29<00:00, 770.72it/s] \n"
     ]
    }
   ],
   "source": [
    "points = create_vdb(client=client, data=df, collection_name=\"articles-rag-euc\", embed_dim=EMBEDDING_DIMENSIONALITY, metric=\"euclidean\", batch_size=BATCH_SIZE)"
   ]
  },
  {
   "cell_type": "code",
   "execution_count": 7,
   "id": "f0b28a3c",
   "metadata": {},
   "outputs": [
    {
     "name": "stderr",
     "output_type": "stream",
     "text": [
      "Processing: 100%|██████████| 23005/23005 [00:33<00:00, 680.13it/s] \n"
     ]
    }
   ],
   "source": [
    "points = create_vdb(client=client, data=df, collection_name=\"articles-rag-dot\", embed_dim=EMBEDDING_DIMENSIONALITY, metric=\"dot\", batch_size=BATCH_SIZE)"
   ]
  },
  {
   "cell_type": "code",
   "execution_count": 8,
   "id": "ccdfff0c",
   "metadata": {},
   "outputs": [
    {
     "name": "stderr",
     "output_type": "stream",
     "text": [
      "Processing: 100%|██████████| 23005/23005 [00:35<00:00, 650.88it/s] \n"
     ]
    }
   ],
   "source": [
    "points = create_vdb(client=client, data=df, collection_name=\"articles-rag-manh\", embed_dim=EMBEDDING_DIMENSIONALITY, metric=\"manhattan\", batch_size=BATCH_SIZE)"
   ]
  },
  {
   "cell_type": "code",
   "execution_count": 1,
   "id": "df2b70ba",
   "metadata": {},
   "outputs": [
    {
     "name": "stderr",
     "output_type": "stream",
     "text": [
      "[NbConvertApp] Converting notebook vector_databases.ipynb to script\n",
      "[NbConvertApp] Writing 4859 bytes to vector_databases.py\n"
     ]
    }
   ],
   "source": [
    "!jupyter nbconvert --to script vector_databases.ipynb"
   ]
  }
 ],
 "metadata": {
  "kernelspec": {
   "display_name": "llmenvs",
   "language": "python",
   "name": "python3"
  },
  "language_info": {
   "codemirror_mode": {
    "name": "ipython",
    "version": 3
   },
   "file_extension": ".py",
   "mimetype": "text/x-python",
   "name": "python",
   "nbconvert_exporter": "python",
   "pygments_lexer": "ipython3",
   "version": "3.10.9"
  }
 },
 "nbformat": 4,
 "nbformat_minor": 5
}
