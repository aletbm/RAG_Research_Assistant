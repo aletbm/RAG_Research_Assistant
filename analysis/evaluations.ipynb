{
 "cells": [
  {
   "cell_type": "markdown",
   "id": "d7617240",
   "metadata": {},
   "source": [
    "# Evaluations"
   ]
  },
  {
   "cell_type": "code",
   "execution_count": null,
   "id": "9c527565",
   "metadata": {},
   "outputs": [],
   "source": [
    "import pandas as pd\n",
    "import os\n",
    "from qdrant_client import QdrantClient, models\n",
    "from fastembed import TextEmbedding\n",
    "from google import genai\n",
    "from google.genai import types\n",
    "import ollama\n",
    "from tqdm.auto import tqdm\n",
    "from pprint import pprint\n",
    "from dotenv import load_dotenv\n",
    "import re\n",
    "\n",
    "load_dotenv()\n",
    "\n",
    "api_key = os.getenv(\"GEMINI_API_KEY\")\n",
    "\n",
    "client_genai = genai.Client(api_key=api_key)\n",
    "\n",
    "model_name = 'BAAI/bge-small-en'\n",
    "embed_model = TextEmbedding(model_name=model_name, provider=\"torch\", device=\"cuda\")\n",
    "client_qdrant = QdrantClient(\"http://localhost:6333\", timeout=60.0)\n",
    "\n",
    "DATA_PATH = \"../data/\"\n",
    "#docker run -p 6333:6333 -p 6334:6334 -v ~/qdrant_storage:/qdrant/storage qdrant/qdrant"
   ]
  },
  {
   "cell_type": "markdown",
   "id": "de668af6",
   "metadata": {},
   "source": [
    "# Retrieval evaluation\n",
    "\n",
    "## Ground truth dataset generation"
   ]
  },
  {
   "cell_type": "code",
   "execution_count": null,
   "id": "cec90206",
   "metadata": {},
   "outputs": [
    {
     "data": {
      "application/vnd.jupyter.widget-view+json": {
       "model_id": "abcd4540fbc74555b6c791071370ffa1",
       "version_major": 2,
       "version_minor": 0
      },
      "text/plain": [
       "Processing:   0%|          | 0/500 [00:00<?, ?it/s]"
      ]
     },
     "metadata": {},
     "output_type": "display_data"
    }
   ],
   "source": [
    "ground_truth = []\n",
    "\n",
    "prompt_sys = \"\"\"You are a helpful assistant that generates exactly {N} blocks of questions from a set of research articles.\n",
    "Follow these strict rules:\n",
    "\n",
    "1. Output exactly {N} articles, no more, no less.\n",
    "2. Each block must be formatted like this:\n",
    "\n",
    "**Article i:**\n",
    "Q1: [question here]\n",
    "Q2: [question here]\n",
    "\n",
    "3. Articles must be numbered starting from 0 up to {N_1} with no gaps and no duplicates.\n",
    "4. Each article has exactly 2 questions.\n",
    "5. Do not repeat or merge articles. If an article is missing information, still output its block with placeholder questions.\n",
    "6. Do not add explanations, comments, or extra text outside the blocks.\n",
    "\"\"\"\n",
    "\n",
    "\n",
    "prompt_template = \"\"\"You are given metadata for {N} scientific articles.\n",
    "\n",
    "### Task\n",
    "For each article, generate exactly 2 simple, natural questions in English that a researcher might ask.\n",
    "The questions must be directly inspired by the article title and authors.\n",
    "\n",
    "### Rules\n",
    "1. Base the questions only on the title and authors (no assumptions).\n",
    "2. Number the outputs by article index, maintaining sequential order.\n",
    "3. Each question must be at most 12 words.\n",
    "\n",
    "\n",
    "### Input\n",
    "List of articles:\n",
    "{articles}\n",
    "\"\"\"\n",
    "\n",
    "batch_size = 10\n",
    "pattern_question = r\"(?:Q[12]:|Question [12]:)\\s*(.*)\"\n",
    "pattern_art = r\"(?:\\*\\*Article\\s+\\d+(?:\\s+Questions:|:[^*]*|\\s*\\([^)]*\\):)\\*\\*|Article\\s+\\d+:)\"\n",
    "\n",
    "try:\n",
    "    gt_df = pd.read_csv(DATA_PATH+\"ground_truth.csv\")\n",
    "    \n",
    "except Exception as e:\n",
    "    df = pd.read_parquet(DATA_PATH+\"articles_w_embeds.parquet\").sample(5000, random_state=42)\n",
    "\n",
    "    for i in tqdm(range(0, len(df), batch_size), desc=\"Processing\"):\n",
    "        batch = df.iloc[i:i+batch_size]\n",
    "        #print(batch.title)\n",
    "        articles = \"\\n\\n\".join(\n",
    "            f\"Article {j}\\nTitle: {row['title']}\\nAuthors: {row['authors']}\"\n",
    "            for j, (_, row) in enumerate(batch.iterrows())\n",
    "        )\n",
    "\n",
    "        response = ollama.chat(\n",
    "            model= \"phi3:instruct\", #\"phi3:mini\",  #\"phi3:mini-4k\"\n",
    "            messages=[\n",
    "                {\"role\": \"system\", \"content\": prompt_sys.format(N=len(batch), N_1=len(batch)-1)},\n",
    "                {\"role\": \"user\", \"content\": prompt_template.format(N=len(batch), articles=articles)}],\n",
    "            options={\n",
    "                \"temperature\": 0\n",
    "            }\n",
    "        )\n",
    "\n",
    "        content = response['message']['content']\n",
    "        article_blocks = re.split(pattern_art, content)[1:]\n",
    "        if len(article_blocks) == batch_size:\n",
    "            for j, (_, row) in enumerate(batch.iterrows()):\n",
    "                    questions = re.findall(pattern_question, article_blocks[j], flags=re.IGNORECASE)\n",
    "                    for q in questions:\n",
    "                        #print(q)\n",
    "                        q = q.strip()\n",
    "                        if len(q.split()) >= 4:\n",
    "                            if q[-1] != '?':\n",
    "                                q = q + '?'\n",
    "                            ground_truth.append({\n",
    "                                \"question\": q,\n",
    "                                \"relevant_document_ids\": row['id'],\n",
    "                                \"categories\": row['categories'],\n",
    "                                \"authors\": row['authors'],\n",
    "                                \"year\": row['year']\n",
    "                            })\n",
    "\n",
    "    gt_df = pd.DataFrame(ground_truth)\n",
    "    gt_df.to_csv(DATA_PATH+\"ground_truth.csv\", index=False, mode='a')\n",
    "\n",
    "#ollama run phi3:mini"
   ]
  },
  {
   "cell_type": "code",
   "execution_count": null,
   "id": "f5df4ada",
   "metadata": {},
   "outputs": [
    {
     "data": {
      "text/plain": [
       "9880"
      ]
     },
     "execution_count": 2,
     "metadata": {},
     "output_type": "execute_result"
    }
   ],
   "source": [
    "#gt_df = pd.read_csv(DATA_PATH+\"ground_truth.csv\")\n",
    "ground_truth = gt_df[[\"question\", \"relevant_document_ids\", \"categories\", \"authors\", \"year\"]].to_dict(\"records\")\n",
    "len(ground_truth)"
   ]
  },
  {
   "cell_type": "markdown",
   "id": "553cd034",
   "metadata": {},
   "source": [
    "## Information retrieval metrics"
   ]
  },
  {
   "cell_type": "code",
   "execution_count": 4,
   "id": "41f3f980",
   "metadata": {},
   "outputs": [],
   "source": [
    "def hit_rate(relevance_total):\n",
    "    cnt = 0\n",
    "\n",
    "    for line in relevance_total:\n",
    "        if True in line:\n",
    "            cnt = cnt + 1\n",
    "\n",
    "    return cnt / len(relevance_total)\n",
    "\n",
    "#Mean Reciprocal Rank\n",
    "def mrr(relevance_total):\n",
    "    total_score = 0.0\n",
    "\n",
    "    for line in relevance_total:\n",
    "        for rank in range(len(line)):\n",
    "            if line[rank] == True:\n",
    "                total_score = total_score + 1 / (rank + 1)\n",
    "\n",
    "    return total_score / len(relevance_total)"
   ]
  },
  {
   "cell_type": "markdown",
   "id": "71b6b0d6",
   "metadata": {},
   "source": [
    "## Search evaluation pipeline"
   ]
  },
  {
   "cell_type": "code",
   "execution_count": null,
   "id": "53e3c2db",
   "metadata": {},
   "outputs": [],
   "source": [
    "def search_papers(query, collection_name=\"articles-rag-cos\", categories=None, top_k=5):\n",
    "    must_filters = []\n",
    "    if categories:\n",
    "        for cat in categories:\n",
    "            must_filters.append(\n",
    "                models.FieldCondition(\n",
    "                    key=\"categories\",\n",
    "                    match=models.MatchText(text=cat)\n",
    "                )\n",
    "            )\n",
    "\n",
    "    results = client_qdrant.query_points(\n",
    "        collection_name=collection_name,\n",
    "        query=models.Document(\n",
    "            text=query,\n",
    "            model=model_name\n",
    "        ),\n",
    "        limit=top_k,\n",
    "        query_filter=models.Filter(\n",
    "            must=must_filters if categories else None\n",
    "        ),\n",
    "    )\n",
    "    return results\n",
    "\n",
    "def evaluate(ground_truth, search_function):\n",
    "    relevance_total = []\n",
    "    for q in tqdm(ground_truth):\n",
    "        doc_id = q['relevant_document_ids']\n",
    "        results = search_function(q)\n",
    "        relevance = [d['id'] == doc_id for d in results]\n",
    "        relevance_total.append(relevance)\n",
    "\n",
    "    return {\n",
    "        'hit_rate': hit_rate(relevance_total),\n",
    "        'mrr': mrr(relevance_total),\n",
    "    }\n",
    "\n",
    "def qdrant_search(query, collection_name=\"articles-rag-cos\", categories=None, top_k=5):\n",
    "    categories = categories.split(\",\")\n",
    "    retrieved_docs = search_papers(query=query, collection_name=collection_name, categories=categories, top_k=top_k)\n",
    "    results = [{\"id\": doc.payload[\"id\"],\n",
    "                \"title\": doc.payload[\"title\"],\n",
    "                \"abstract_chunk\": doc.payload[\"abstract_chunk\"],\n",
    "                \"authors\": doc.payload[\"authors\"],\n",
    "                \"categories\": doc.payload[\"categories\"],\n",
    "                \"url\": doc.payload[\"url\"]\n",
    "                }\n",
    "                for doc in retrieved_docs.points]\n",
    "    return results"
   ]
  },
  {
   "cell_type": "markdown",
   "id": "e470474c",
   "metadata": {},
   "source": [
    "## Evaluations"
   ]
  },
  {
   "cell_type": "markdown",
   "id": "2bf1dd7c",
   "metadata": {},
   "source": [
    "### Searching with different Top-K values"
   ]
  },
  {
   "cell_type": "code",
   "execution_count": 9,
   "id": "34304561",
   "metadata": {},
   "outputs": [
    {
     "data": {
      "application/vnd.jupyter.widget-view+json": {
       "model_id": "548a8915266440019cd6fb8664f8424d",
       "version_major": 2,
       "version_minor": 0
      },
      "text/plain": [
       "  0%|          | 0/9880 [00:00<?, ?it/s]"
      ]
     },
     "metadata": {},
     "output_type": "display_data"
    },
    {
     "data": {
      "text/plain": [
       "{'hit_rate': 0.612753036437247, 'mrr': 0.5345310391363006}"
      ]
     },
     "execution_count": 9,
     "metadata": {},
     "output_type": "execute_result"
    }
   ],
   "source": [
    "evaluations = {}\n",
    "\n",
    "evaluations[\"Qdrant_5_cos\"] = evaluate(ground_truth, lambda q: qdrant_search(query=q[\"question\"], collection_name=\"articles-rag-cos\", top_k=5))\n",
    "evaluations[\"Qdrant_5_cos\"]"
   ]
  },
  {
   "cell_type": "code",
   "execution_count": 10,
   "id": "7235cf70",
   "metadata": {},
   "outputs": [
    {
     "data": {
      "application/vnd.jupyter.widget-view+json": {
       "model_id": "c2414e66a05347c79a199c348c7d59b3",
       "version_major": 2,
       "version_minor": 0
      },
      "text/plain": [
       "  0%|          | 0/9880 [00:00<?, ?it/s]"
      ]
     },
     "metadata": {},
     "output_type": "display_data"
    },
    {
     "data": {
      "text/plain": [
       "{'hit_rate': 0.6521255060728745, 'mrr': 0.5398011454919345}"
      ]
     },
     "execution_count": 10,
     "metadata": {},
     "output_type": "execute_result"
    }
   ],
   "source": [
    "evaluations[\"Qdrant_10_cos\"] = evaluate(ground_truth, lambda q: qdrant_search(query=q[\"question\"], collection_name=\"articles-rag-cos\", top_k=10))\n",
    "evaluations[\"Qdrant_10_cos\"]"
   ]
  },
  {
   "cell_type": "code",
   "execution_count": 11,
   "id": "ab87a7ef",
   "metadata": {},
   "outputs": [
    {
     "data": {
      "application/vnd.jupyter.widget-view+json": {
       "model_id": "32834630b2924a34b7e1482db068f1ee",
       "version_major": 2,
       "version_minor": 0
      },
      "text/plain": [
       "  0%|          | 0/9880 [00:00<?, ?it/s]"
      ]
     },
     "metadata": {},
     "output_type": "display_data"
    },
    {
     "data": {
      "text/plain": [
       "{'hit_rate': 0.6876518218623482, 'mrr': 0.5423184696187611}"
      ]
     },
     "execution_count": 11,
     "metadata": {},
     "output_type": "execute_result"
    }
   ],
   "source": [
    "evaluations[\"Qdrant_20_cos\"] = evaluate(ground_truth, lambda q: qdrant_search(query=q[\"question\"], collection_name=\"articles-rag-cos\", top_k=20))\n",
    "evaluations[\"Qdrant_20_cos\"]"
   ]
  },
  {
   "cell_type": "markdown",
   "id": "217f84f8",
   "metadata": {},
   "source": [
    "### Searching with a filter"
   ]
  },
  {
   "cell_type": "code",
   "execution_count": 12,
   "id": "6b373b57",
   "metadata": {},
   "outputs": [
    {
     "data": {
      "application/vnd.jupyter.widget-view+json": {
       "model_id": "1bb6f5cfa4e54e7e94aba8888813c3cb",
       "version_major": 2,
       "version_minor": 0
      },
      "text/plain": [
       "  0%|          | 0/9880 [00:00<?, ?it/s]"
      ]
     },
     "metadata": {},
     "output_type": "display_data"
    },
    {
     "data": {
      "text/plain": [
       "{'hit_rate': 0.9118421052631579, 'mrr': 0.7891646729884217}"
      ]
     },
     "execution_count": 12,
     "metadata": {},
     "output_type": "execute_result"
    }
   ],
   "source": [
    "evaluations[\"Qdrant_20_cat_cos\"] = evaluate(ground_truth, lambda q: qdrant_search(query=q[\"question\"], categories=q[\"categories\"], collection_name=\"articles-rag-cos\", top_k=20))\n",
    "evaluations[\"Qdrant_20_cat_cos\"]"
   ]
  },
  {
   "cell_type": "markdown",
   "id": "faaf9e58",
   "metadata": {},
   "source": [
    "### Searching with different distance metrics"
   ]
  },
  {
   "cell_type": "code",
   "execution_count": 13,
   "id": "20f1fa53",
   "metadata": {},
   "outputs": [
    {
     "data": {
      "application/vnd.jupyter.widget-view+json": {
       "model_id": "9f2fcef6e3c4413c9bc69979a8ac54b3",
       "version_major": 2,
       "version_minor": 0
      },
      "text/plain": [
       "  0%|          | 0/9880 [00:00<?, ?it/s]"
      ]
     },
     "metadata": {},
     "output_type": "display_data"
    },
    {
     "data": {
      "text/plain": [
       "{'hit_rate': 0.9118421052631579, 'mrr': 0.7891646729884217}"
      ]
     },
     "execution_count": 13,
     "metadata": {},
     "output_type": "execute_result"
    }
   ],
   "source": [
    "evaluations[\"Qdrant_20_cat_dot\"] = evaluate(ground_truth, lambda q: qdrant_search(query=q[\"question\"], categories=q[\"categories\"], collection_name=\"articles-rag-dot\", top_k=20))\n",
    "evaluations[\"Qdrant_20_cat_dot\"]"
   ]
  },
  {
   "cell_type": "code",
   "execution_count": 14,
   "id": "2f28f9a3",
   "metadata": {},
   "outputs": [
    {
     "data": {
      "application/vnd.jupyter.widget-view+json": {
       "model_id": "90818a41908f4397be73e2bba55eddfd",
       "version_major": 2,
       "version_minor": 0
      },
      "text/plain": [
       "  0%|          | 0/9880 [00:00<?, ?it/s]"
      ]
     },
     "metadata": {},
     "output_type": "display_data"
    },
    {
     "data": {
      "text/plain": [
       "{'hit_rate': 0.9118421052631579, 'mrr': 0.7891646729884217}"
      ]
     },
     "execution_count": 14,
     "metadata": {},
     "output_type": "execute_result"
    }
   ],
   "source": [
    "evaluations[\"Qdrant_20_cat_euc\"] = evaluate(ground_truth, lambda q: qdrant_search(query=q[\"question\"], categories=q[\"categories\"], collection_name=\"articles-rag-euc\", top_k=20))\n",
    "evaluations[\"Qdrant_20_cat_euc\"]"
   ]
  },
  {
   "cell_type": "code",
   "execution_count": 15,
   "id": "43ba0555",
   "metadata": {},
   "outputs": [
    {
     "data": {
      "application/vnd.jupyter.widget-view+json": {
       "model_id": "a5130a5ef394465daf7d631d18f69f92",
       "version_major": 2,
       "version_minor": 0
      },
      "text/plain": [
       "  0%|          | 0/9880 [00:00<?, ?it/s]"
      ]
     },
     "metadata": {},
     "output_type": "display_data"
    },
    {
     "data": {
      "text/plain": [
       "{'hit_rate': 0.9068825910931174, 'mrr': 0.7822082601879835}"
      ]
     },
     "execution_count": 15,
     "metadata": {},
     "output_type": "execute_result"
    }
   ],
   "source": [
    "evaluations[\"Qdrant_20_cat_manh\"] = evaluate(ground_truth, lambda q: qdrant_search(query=q[\"question\"], categories=q[\"categories\"], collection_name=\"articles-rag-manh\", top_k=20))\n",
    "evaluations[\"Qdrant_20_cat_manh\"]"
   ]
  },
  {
   "cell_type": "code",
   "execution_count": null,
   "id": "59cd5b6d",
   "metadata": {},
   "outputs": [
    {
     "data": {
      "text/html": [
       "<style type=\"text/css\">\n",
       "#T_3fdfb_row0_col0, #T_3fdfb_row0_col1 {\n",
       "  background-color: red;\n",
       "}\n",
       "#T_3fdfb_row3_col0, #T_3fdfb_row3_col1, #T_3fdfb_row4_col0, #T_3fdfb_row4_col1, #T_3fdfb_row5_col0, #T_3fdfb_row5_col1 {\n",
       "  background-color: green;\n",
       "}\n",
       "</style>\n",
       "<table id=\"T_3fdfb\">\n",
       "  <thead>\n",
       "    <tr>\n",
       "      <th class=\"blank level0\" >&nbsp;</th>\n",
       "      <th id=\"T_3fdfb_level0_col0\" class=\"col_heading level0 col0\" >hit_rate</th>\n",
       "      <th id=\"T_3fdfb_level0_col1\" class=\"col_heading level0 col1\" >mrr</th>\n",
       "    </tr>\n",
       "  </thead>\n",
       "  <tbody>\n",
       "    <tr>\n",
       "      <th id=\"T_3fdfb_level0_row0\" class=\"row_heading level0 row0\" >Qdrant_5_cos</th>\n",
       "      <td id=\"T_3fdfb_row0_col0\" class=\"data row0 col0\" >0.612753</td>\n",
       "      <td id=\"T_3fdfb_row0_col1\" class=\"data row0 col1\" >0.534531</td>\n",
       "    </tr>\n",
       "    <tr>\n",
       "      <th id=\"T_3fdfb_level0_row1\" class=\"row_heading level0 row1\" >Qdrant_10_cos</th>\n",
       "      <td id=\"T_3fdfb_row1_col0\" class=\"data row1 col0\" >0.652126</td>\n",
       "      <td id=\"T_3fdfb_row1_col1\" class=\"data row1 col1\" >0.539801</td>\n",
       "    </tr>\n",
       "    <tr>\n",
       "      <th id=\"T_3fdfb_level0_row2\" class=\"row_heading level0 row2\" >Qdrant_20_cos</th>\n",
       "      <td id=\"T_3fdfb_row2_col0\" class=\"data row2 col0\" >0.687652</td>\n",
       "      <td id=\"T_3fdfb_row2_col1\" class=\"data row2 col1\" >0.542318</td>\n",
       "    </tr>\n",
       "    <tr>\n",
       "      <th id=\"T_3fdfb_level0_row3\" class=\"row_heading level0 row3\" >Qdrant_20_cat_cos</th>\n",
       "      <td id=\"T_3fdfb_row3_col0\" class=\"data row3 col0\" >0.911842</td>\n",
       "      <td id=\"T_3fdfb_row3_col1\" class=\"data row3 col1\" >0.789165</td>\n",
       "    </tr>\n",
       "    <tr>\n",
       "      <th id=\"T_3fdfb_level0_row4\" class=\"row_heading level0 row4\" >Qdrant_20_cat_dot</th>\n",
       "      <td id=\"T_3fdfb_row4_col0\" class=\"data row4 col0\" >0.911842</td>\n",
       "      <td id=\"T_3fdfb_row4_col1\" class=\"data row4 col1\" >0.789165</td>\n",
       "    </tr>\n",
       "    <tr>\n",
       "      <th id=\"T_3fdfb_level0_row5\" class=\"row_heading level0 row5\" >Qdrant_20_cat_euc</th>\n",
       "      <td id=\"T_3fdfb_row5_col0\" class=\"data row5 col0\" >0.911842</td>\n",
       "      <td id=\"T_3fdfb_row5_col1\" class=\"data row5 col1\" >0.789165</td>\n",
       "    </tr>\n",
       "    <tr>\n",
       "      <th id=\"T_3fdfb_level0_row6\" class=\"row_heading level0 row6\" >Qdrant_20_cat_manh</th>\n",
       "      <td id=\"T_3fdfb_row6_col0\" class=\"data row6 col0\" >0.906883</td>\n",
       "      <td id=\"T_3fdfb_row6_col1\" class=\"data row6 col1\" >0.782208</td>\n",
       "    </tr>\n",
       "  </tbody>\n",
       "</table>\n"
      ],
      "text/plain": [
       "<pandas.io.formats.style.Styler at 0x202e92e4790>"
      ]
     },
     "execution_count": 8,
     "metadata": {},
     "output_type": "execute_result"
    },
    {
     "ename": "",
     "evalue": "",
     "output_type": "error",
     "traceback": [
      "\u001b[1;31mThe Kernel crashed while executing code in the current cell or a previous cell. \n",
      "\u001b[1;31mPlease review the code in the cell(s) to identify a possible cause of the failure. \n",
      "\u001b[1;31mClick <a href='https://aka.ms/vscodeJupyterKernelCrash'>here</a> for more info. \n",
      "\u001b[1;31mView Jupyter <a href='command:jupyter.viewOutput'>log</a> for further details."
     ]
    }
   ],
   "source": [
    "df_eval = pd.DataFrame(evaluations).T\n",
    "df_eval.to_csv(DATA_PATH+\"evaluations.csv\", index=False)\n",
    "df_eval.style.highlight_max(color = 'green', axis = 0).highlight_min(color = 'red', axis = 0)"
   ]
  },
  {
   "cell_type": "markdown",
   "id": "2361b7a8",
   "metadata": {},
   "source": [
    "## Build RAG system"
   ]
  },
  {
   "cell_type": "code",
   "execution_count": 3,
   "id": "8a0d9ad6",
   "metadata": {},
   "outputs": [
    {
     "name": "stderr",
     "output_type": "stream",
     "text": [
      "\n",
      "[notice] A new release of pip available: 22.3.1 -> 25.2\n",
      "[notice] To update, run: python.exe -m pip install --upgrade pip\n"
     ]
    }
   ],
   "source": [
    "!pip install google-genai -q"
   ]
  },
  {
   "cell_type": "markdown",
   "id": "5b11fecf",
   "metadata": {},
   "source": [
    "# LLM Evaluation"
   ]
  },
  {
   "cell_type": "markdown",
   "id": "7683a0ab",
   "metadata": {},
   "source": [
    "## RAG system"
   ]
  },
  {
   "cell_type": "code",
   "execution_count": 4,
   "id": "37ed3fb4",
   "metadata": {},
   "outputs": [],
   "source": [
    "prompts = {\n",
    "    \"base\": \"\"\"You are a research assistant. \n",
    "Your goal is to provide a clear and accurate explanation in your own words, \n",
    "using only the provided context from the papers as background knowledge. \n",
    "Do not copy phrases like \"From the abstract...\". \n",
    "Instead, synthesize the information into a natural explanation. \n",
    "Do not speculate or hallucinate. \n",
    "Whenever possible, enrich your answer with relevant insights that appear in the papers. \n",
    "\n",
    "At the end, provide a section titled \"References\" with a bullet-point list. Each item must contain exactly these fields (in this order):\n",
    "- ** <title> **\n",
    "    - Authors: <authors>\n",
    "    - Published date: <date or \"Not stated in provided context\">\n",
    "    - URL: <url or \"Not stated in provided context\">\n",
    "\n",
    "Question: {query}\n",
    "\n",
    "Context:\n",
    "{context}\n",
    "\n",
    "Output must start with \"Answer:...\"\n",
    "\"\"\",\n",
    "    \"cts\":\"\"\"You are a research assistant.\n",
    "First, analyze the context step by step:\n",
    "\n",
    "* Identify the main topic of each paper.\n",
    "* Note the methods, findings, and key insights relevant to the question.\n",
    "* Compare and integrate the ideas where appropriate.\n",
    "\n",
    "Then, synthesize your reasoning into a clear and accurate explanation in your own words, \n",
    "using only the provided context from the papers as background knowledge. \n",
    "Do not speculate or hallucinate, and avoid phrases like \"From the abstract...\".\n",
    "Write the explanation as if you are teaching a colleague.\n",
    "\n",
    "At the end, provide a section titled \"References\" with a bullet-point list. Each item must contain exactly these fields (in this order):\n",
    "- ** <title> **\n",
    "    - Authors: <authors>\n",
    "    - Published date: <date or \"Not stated in provided context\">\n",
    "    - URL: <url or \"Not stated in provided context\">\n",
    "\n",
    "Question: {query}\n",
    "\n",
    "Context:\n",
    "{context}\n",
    "\n",
    "Output must start with \"Answer:...\"\n",
    "\"\"\",\n",
    "    \"fs\":\"\"\"You are a research assistant. \n",
    "Your task is to analyze retrieved documents and provide a structured, accurate answer,\n",
    "using only the provided context from the papers as background knowledge. \n",
    "\n",
    "Follow this format strictly:\n",
    "\n",
    "**Example 1**\n",
    "Question: *What is a CNN?*\n",
    "Context:\n",
    "\n",
    "* Paper A: Describes CNNs as a class of deep neural networks specialized in image recognition.\n",
    "* Paper B: Shows how CNNs outperform traditional feature engineering in vision tasks.\n",
    "\n",
    "Answer:\n",
    "A Convolutional Neural Network (CNN) is a type of deep learning model particularly effective for image-related tasks. Its architecture uses convolutional layers to automatically extract spatial features, reducing the need for manual feature engineering. Studies show CNNs surpass traditional methods in both accuracy and scalability for visual recognition problems.\n",
    "\n",
    "References:\n",
    "\n",
    "- ** <title> **\n",
    "    - Authors: <authors>\n",
    "    - Published date: <date or \"Not stated in provided context\">\n",
    "    - URL: <url or \"Not stated in provided context\">\n",
    "\n",
    "**Your Turn**\n",
    "Now, using the same style and level of detail, answer the following:\n",
    "\n",
    "Question: {query}\n",
    "Context: {context}\n",
    "\n",
    "Answer:\n",
    "\"\"\"\n",
    "}"
   ]
  },
  {
   "cell_type": "code",
   "execution_count": 5,
   "id": "c2e45d2f",
   "metadata": {},
   "outputs": [],
   "source": [
    "def query_gemini(prompt: str):\n",
    "    generation_config = types.GenerateContentConfig(\n",
    "        temperature=0.3\n",
    "    )\n",
    "\n",
    "    response = client_genai.models.generate_content(\n",
    "        model=\"gemini-2.5-flash-lite\",\n",
    "        contents=prompt,\n",
    "        config=generation_config\n",
    "    )\n",
    "    return response.text\n",
    "\n",
    "def build_prompt(query, retrieved_docs, mode):\n",
    "    context = \"\\n\\n\".join([\n",
    "        f\"Title: {doc.payload['title']}\\n\"\n",
    "        f\"Abstract: {doc.payload['abstract_chunk']}\\n\"\n",
    "        f\"Authors: {doc.payload['authors']}\\n\"\n",
    "        f\"URL: {doc.payload['url']}\\n\"\n",
    "        f\"Published date: {doc.payload['published']}\"\n",
    "        for doc in retrieved_docs.points\n",
    "    ])\n",
    "\n",
    "    prompt = prompts[mode].format(query=query, context=context)\n",
    "    return prompt\n",
    "\n",
    "\n",
    "def rag_pipeline(query, categories, mode=\"direct\"):\n",
    "    docs = search_papers(query, collection_name=\"articles-rag-cos\", categories=categories, top_k=20)\n",
    "    prompt = build_prompt(query, docs, mode)\n",
    "    #print(prompt)\n",
    "    response = query_gemini(prompt)\n",
    "    return response"
   ]
  },
  {
   "cell_type": "code",
   "execution_count": 6,
   "id": "6d0d225e",
   "metadata": {},
   "outputs": [
    {
     "data": {
      "text/plain": [
       "('What are challenges in automatic speech recognition using a decentralized feature extraction approach with quantum CNNs?',\n",
       " ['cs.SD', ' cs.LG', ' cs.NE', ' eess.AS', ' quant-ph'])"
      ]
     },
     "execution_count": 6,
     "metadata": {},
     "output_type": "execute_result"
    }
   ],
   "source": [
    "from rich.console import Console\n",
    "from rich.markdown import Markdown\n",
    "\n",
    "console = Console()\n",
    "\n",
    "idx = 1050\n",
    "query = ground_truth[idx][\"question\"]\n",
    "categories = ground_truth[idx][\"categories\"].split(\",\")\n",
    "query, categories"
   ]
  },
  {
   "cell_type": "markdown",
   "id": "942e1104",
   "metadata": {},
   "source": [
    "## Baseline"
   ]
  },
  {
   "cell_type": "code",
   "execution_count": 98,
   "id": "af1f3941",
   "metadata": {},
   "outputs": [
    {
     "data": {
      "text/html": [
       "<pre style=\"white-space:pre;overflow-x:auto;line-height:normal;font-family:Menlo,'DejaVu Sans Mono',consolas,'Courier New',monospace\">Answer: In a decentralized feature extraction approach for automatic speech recognition using quantum Convolutional\n",
       "Neural Networks (QCNNs), a primary challenge is ensuring model parameter protection and preventing privacy leakage \n",
       "attacks. This is addressed by first sending the input speech to a quantum computing server for feature extraction, \n",
       "specifically generating mel-spectrograms. These spectrograms are then processed by a quantum circuit algorithm with\n",
       "random parameters to encode the convolutional features. This encoded information is subsequently sent back to a    \n",
       "local Recurrent Neural Network (RNN) for the final speech recognition task. While this decentralized method,       \n",
       "utilizing a QCNN encoder and an RNN acoustic model, aims to enhance privacy and security, it also presents the     \n",
       "challenge of effectively integrating quantum processing with classical machine learning models in a way that       \n",
       "maintains high accuracy. The research indicates that this approach can achieve competitive accuracy, even          \n",
       "surpassing previous centralized RNN models with convolutional features on datasets like Google Speech Commands.    \n",
       "Further research into different quantum circuit encoder architectures is ongoing to optimize these QCNN-based      \n",
       "feature extractors.                                                                                                \n",
       "\n",
       "References:                                                                                                        \n",
       "\n",
       "<span style=\"color: #808000; text-decoration-color: #808000; font-weight: bold\"> • </span><span style=\"font-weight: bold\">Decentralizing Feature Extraction with Quantum Convolutional Neural Network for Automatic Speech Recognition</span>    \n",
       "<span style=\"color: #808000; text-decoration-color: #808000; font-weight: bold\">    • </span>Authors: Chao-Han Huck Yang, Jun Qi, Samuel Yen-Chi Chen, Pin-Yu Chen, Sabato Marco Siniscalchi, Xiaoli Ma,  \n",
       "<span style=\"color: #808000; text-decoration-color: #808000; font-weight: bold\">      </span>Chin-Hui Lee                                                                                                 \n",
       "<span style=\"color: #808000; text-decoration-color: #808000; font-weight: bold\">    • </span>Published date: 2020-10-26 03:36:01+00:00                                                                    \n",
       "<span style=\"color: #808000; text-decoration-color: #808000; font-weight: bold\">    • </span>URL: http://arxiv.org/abs/2010.13309v2                                                                       \n",
       "</pre>\n"
      ],
      "text/plain": [
       "Answer: In a decentralized feature extraction approach for automatic speech recognition using quantum Convolutional\n",
       "Neural Networks (QCNNs), a primary challenge is ensuring model parameter protection and preventing privacy leakage \n",
       "attacks. This is addressed by first sending the input speech to a quantum computing server for feature extraction, \n",
       "specifically generating mel-spectrograms. These spectrograms are then processed by a quantum circuit algorithm with\n",
       "random parameters to encode the convolutional features. This encoded information is subsequently sent back to a    \n",
       "local Recurrent Neural Network (RNN) for the final speech recognition task. While this decentralized method,       \n",
       "utilizing a QCNN encoder and an RNN acoustic model, aims to enhance privacy and security, it also presents the     \n",
       "challenge of effectively integrating quantum processing with classical machine learning models in a way that       \n",
       "maintains high accuracy. The research indicates that this approach can achieve competitive accuracy, even          \n",
       "surpassing previous centralized RNN models with convolutional features on datasets like Google Speech Commands.    \n",
       "Further research into different quantum circuit encoder architectures is ongoing to optimize these QCNN-based      \n",
       "feature extractors.                                                                                                \n",
       "\n",
       "References:                                                                                                        \n",
       "\n",
       "\u001b[1;33m • \u001b[0m\u001b[1mDecentralizing Feature Extraction with Quantum Convolutional Neural Network for Automatic Speech Recognition\u001b[0m    \n",
       "\u001b[1;33m   \u001b[0m\u001b[1;33m • \u001b[0mAuthors: Chao-Han Huck Yang, Jun Qi, Samuel Yen-Chi Chen, Pin-Yu Chen, Sabato Marco Siniscalchi, Xiaoli Ma,  \n",
       "\u001b[1;33m   \u001b[0m\u001b[1;33m   \u001b[0mChin-Hui Lee                                                                                                 \n",
       "\u001b[1;33m   \u001b[0m\u001b[1;33m • \u001b[0mPublished date: 2020-10-26 03:36:01+00:00                                                                    \n",
       "\u001b[1;33m   \u001b[0m\u001b[1;33m • \u001b[0mURL: http://arxiv.org/abs/2010.13309v2                                                                       \n"
      ]
     },
     "metadata": {},
     "output_type": "display_data"
    }
   ],
   "source": [
    "response = rag_pipeline(query, categories, mode=\"base\")\n",
    "\n",
    "md = Markdown(response)\n",
    "console.print(md)"
   ]
  },
  {
   "cell_type": "markdown",
   "id": "d6293b22",
   "metadata": {},
   "source": [
    "## Chain-of-Thought style"
   ]
  },
  {
   "cell_type": "code",
   "execution_count": 99,
   "id": "313898a6",
   "metadata": {},
   "outputs": [
    {
     "data": {
      "text/html": [
       "<pre style=\"white-space:pre;overflow-x:auto;line-height:normal;font-family:Menlo,'DejaVu Sans Mono',consolas,'Courier New',monospace\">Answer: When using a decentralized feature extraction approach with Quantum Convolutional Neural Networks (QCNNs)  \n",
       "for Automatic Speech Recognition (ASR), several challenges arise, primarily related to privacy preservation and the\n",
       "integration of quantum and classical components.                                                                   \n",
       "\n",
       "One of the main challenges is ensuring privacy. In a decentralized setup, raw speech data is sensitive. The        \n",
       "proposed approach tackles this by sending the input speech to a quantum computing server first. This server        \n",
       "extracts mel-spectrograms and then uses a quantum circuit with random parameters to encode these features. This    \n",
       "encoding process is designed to protect model parameters and prevent privacy leakage attacks.                      \n",
       "\n",
       "Another challenge lies in the architecture itself. The system combines quantum and classical elements. It uses a   \n",
       "QCNN for feature extraction, specifically a quantum circuit encoder, and then a recurrent neural network (RNN) for \n",
       "the end-to-end acoustic model. The encoded features from the quantum circuit are sent to a local RNN model for the \n",
       "final recognition. This integration requires careful design to ensure efficient data flow and compatibility between\n",
       "the quantum and classical parts.                                                                                   \n",
       "\n",
       "Furthermore, designing effective quantum circuit encoder architectures for feature extraction is an area of ongoing\n",
       "research. The paper mentions conducting an in-depth study of different architectures to gain insights into building\n",
       "better QCNN-based feature extractors. This suggests that optimizing the quantum component for speech feature       \n",
       "extraction is not straightforward.                                                                                 \n",
       "\n",
       "Finally, while the QCNN encoder shows promise in achieving competitive accuracy (95.12% on the Google Speech       \n",
       "Commands dataset) in a decentralized model, comparing its performance against traditional centralized RNN models   \n",
       "with convolutional features highlights the need for continued development and validation. The neural saliency      \n",
       "analyses, which show a correlation between QCNN features, class activation maps, and input spectrograms, are a step\n",
       "towards understanding the effectiveness of these quantum features.                                                 \n",
       "\n",
       "References:                                                                                                        \n",
       "\n",
       "<span style=\"color: #808000; text-decoration-color: #808000; font-weight: bold\"> • </span><span style=\"font-weight: bold\">Decentralizing Feature Extraction with Quantum Convolutional Neural Network for Automatic Speech Recognition</span>    \n",
       "<span style=\"color: #808000; text-decoration-color: #808000; font-weight: bold\">    • </span>Authors: Chao-Han Huck Yang, Jun Qi, Samuel Yen-Chi Chen, Pin-Yu Chen, Sabato Marco Siniscalchi, Xiaoli Ma,  \n",
       "<span style=\"color: #808000; text-decoration-color: #808000; font-weight: bold\">      </span>Chin-Hui Lee                                                                                                 \n",
       "<span style=\"color: #808000; text-decoration-color: #808000; font-weight: bold\">    • </span>Published date: 2020-10-26 03:36:01+00:00                                                                    \n",
       "<span style=\"color: #808000; text-decoration-color: #808000; font-weight: bold\">    • </span>URL: http://arxiv.org/abs/2010.13309v2                                                                       \n",
       "</pre>\n"
      ],
      "text/plain": [
       "Answer: When using a decentralized feature extraction approach with Quantum Convolutional Neural Networks (QCNNs)  \n",
       "for Automatic Speech Recognition (ASR), several challenges arise, primarily related to privacy preservation and the\n",
       "integration of quantum and classical components.                                                                   \n",
       "\n",
       "One of the main challenges is ensuring privacy. In a decentralized setup, raw speech data is sensitive. The        \n",
       "proposed approach tackles this by sending the input speech to a quantum computing server first. This server        \n",
       "extracts mel-spectrograms and then uses a quantum circuit with random parameters to encode these features. This    \n",
       "encoding process is designed to protect model parameters and prevent privacy leakage attacks.                      \n",
       "\n",
       "Another challenge lies in the architecture itself. The system combines quantum and classical elements. It uses a   \n",
       "QCNN for feature extraction, specifically a quantum circuit encoder, and then a recurrent neural network (RNN) for \n",
       "the end-to-end acoustic model. The encoded features from the quantum circuit are sent to a local RNN model for the \n",
       "final recognition. This integration requires careful design to ensure efficient data flow and compatibility between\n",
       "the quantum and classical parts.                                                                                   \n",
       "\n",
       "Furthermore, designing effective quantum circuit encoder architectures for feature extraction is an area of ongoing\n",
       "research. The paper mentions conducting an in-depth study of different architectures to gain insights into building\n",
       "better QCNN-based feature extractors. This suggests that optimizing the quantum component for speech feature       \n",
       "extraction is not straightforward.                                                                                 \n",
       "\n",
       "Finally, while the QCNN encoder shows promise in achieving competitive accuracy (95.12% on the Google Speech       \n",
       "Commands dataset) in a decentralized model, comparing its performance against traditional centralized RNN models   \n",
       "with convolutional features highlights the need for continued development and validation. The neural saliency      \n",
       "analyses, which show a correlation between QCNN features, class activation maps, and input spectrograms, are a step\n",
       "towards understanding the effectiveness of these quantum features.                                                 \n",
       "\n",
       "References:                                                                                                        \n",
       "\n",
       "\u001b[1;33m • \u001b[0m\u001b[1mDecentralizing Feature Extraction with Quantum Convolutional Neural Network for Automatic Speech Recognition\u001b[0m    \n",
       "\u001b[1;33m   \u001b[0m\u001b[1;33m • \u001b[0mAuthors: Chao-Han Huck Yang, Jun Qi, Samuel Yen-Chi Chen, Pin-Yu Chen, Sabato Marco Siniscalchi, Xiaoli Ma,  \n",
       "\u001b[1;33m   \u001b[0m\u001b[1;33m   \u001b[0mChin-Hui Lee                                                                                                 \n",
       "\u001b[1;33m   \u001b[0m\u001b[1;33m • \u001b[0mPublished date: 2020-10-26 03:36:01+00:00                                                                    \n",
       "\u001b[1;33m   \u001b[0m\u001b[1;33m • \u001b[0mURL: http://arxiv.org/abs/2010.13309v2                                                                       \n"
      ]
     },
     "metadata": {},
     "output_type": "display_data"
    }
   ],
   "source": [
    "response = rag_pipeline(query, categories, mode=\"cts\")\n",
    "\n",
    "md = Markdown(response)\n",
    "console.print(md)"
   ]
  },
  {
   "cell_type": "markdown",
   "id": "79b7fe48",
   "metadata": {},
   "source": [
    "## Few-shot guidance"
   ]
  },
  {
   "cell_type": "code",
   "execution_count": 100,
   "id": "48ffe822",
   "metadata": {},
   "outputs": [
    {
     "data": {
      "text/html": [
       "<pre style=\"white-space:pre;overflow-x:auto;line-height:normal;font-family:Menlo,'DejaVu Sans Mono',consolas,'Courier New',monospace\">Answer: The proposed decentralized feature extraction approach for automatic speech recognition using a Quantum    \n",
       "Convolutional Neural Network (QCNN) aims to enhance privacy preservation. In this framework, an input speech is    \n",
       "first sent to a quantum computing server for mel-spectrogram extraction. Subsequently, convolutional features are  \n",
       "encoded using a quantum circuit algorithm with random parameters. These encoded features are then sent to a local  \n",
       "Recurrent Neural Network (RNN) for the final recognition. This decentralized architecture leverages quantum        \n",
       "learning to secure models and prevent privacy leakage. While achieving a competitive accuracy of 95.12% on the     \n",
       "Google Speech Commands dataset, which surpasses previous architectures using centralized RNN models with           \n",
       "convolutional features, the context does not explicitly detail challenges encountered in this specific             \n",
       "decentralized QCNN approach. However, the methodology implies a reliance on quantum computing resources for feature\n",
       "extraction and encoding, which could present infrastructure or accessibility challenges in a broader deployment.   \n",
       "\n",
       "References:                                                                                                        \n",
       "\n",
       "<span style=\"color: #808000; text-decoration-color: #808000; font-weight: bold\"> • </span><span style=\"font-weight: bold\">Decentralizing Feature Extraction with Quantum Convolutional Neural Network for Automatic Speech Recognition</span>    \n",
       "<span style=\"color: #808000; text-decoration-color: #808000; font-weight: bold\">    • </span>Authors: Chao-Han Huck Yang, Jun Qi, Samuel Yen-Chi Chen, Pin-Yu Chen, Sabato Marco Siniscalchi, Xiaoli Ma,  \n",
       "<span style=\"color: #808000; text-decoration-color: #808000; font-weight: bold\">      </span>Chin-Hui Lee                                                                                                 \n",
       "<span style=\"color: #808000; text-decoration-color: #808000; font-weight: bold\">    • </span>Published date: 2020-10-26 03:36:01+00:00                                                                    \n",
       "<span style=\"color: #808000; text-decoration-color: #808000; font-weight: bold\">    • </span>URL: http://arxiv.org/abs/2010.13309v2                                                                       \n",
       "</pre>\n"
      ],
      "text/plain": [
       "Answer: The proposed decentralized feature extraction approach for automatic speech recognition using a Quantum    \n",
       "Convolutional Neural Network (QCNN) aims to enhance privacy preservation. In this framework, an input speech is    \n",
       "first sent to a quantum computing server for mel-spectrogram extraction. Subsequently, convolutional features are  \n",
       "encoded using a quantum circuit algorithm with random parameters. These encoded features are then sent to a local  \n",
       "Recurrent Neural Network (RNN) for the final recognition. This decentralized architecture leverages quantum        \n",
       "learning to secure models and prevent privacy leakage. While achieving a competitive accuracy of 95.12% on the     \n",
       "Google Speech Commands dataset, which surpasses previous architectures using centralized RNN models with           \n",
       "convolutional features, the context does not explicitly detail challenges encountered in this specific             \n",
       "decentralized QCNN approach. However, the methodology implies a reliance on quantum computing resources for feature\n",
       "extraction and encoding, which could present infrastructure or accessibility challenges in a broader deployment.   \n",
       "\n",
       "References:                                                                                                        \n",
       "\n",
       "\u001b[1;33m • \u001b[0m\u001b[1mDecentralizing Feature Extraction with Quantum Convolutional Neural Network for Automatic Speech Recognition\u001b[0m    \n",
       "\u001b[1;33m   \u001b[0m\u001b[1;33m • \u001b[0mAuthors: Chao-Han Huck Yang, Jun Qi, Samuel Yen-Chi Chen, Pin-Yu Chen, Sabato Marco Siniscalchi, Xiaoli Ma,  \n",
       "\u001b[1;33m   \u001b[0m\u001b[1;33m   \u001b[0mChin-Hui Lee                                                                                                 \n",
       "\u001b[1;33m   \u001b[0m\u001b[1;33m • \u001b[0mPublished date: 2020-10-26 03:36:01+00:00                                                                    \n",
       "\u001b[1;33m   \u001b[0m\u001b[1;33m • \u001b[0mURL: http://arxiv.org/abs/2010.13309v2                                                                       \n"
      ]
     },
     "metadata": {},
     "output_type": "display_data"
    }
   ],
   "source": [
    "response = rag_pipeline(query, categories, mode=\"fs\")\n",
    "\n",
    "md = Markdown(response)\n",
    "console.print(md)"
   ]
  },
  {
   "cell_type": "markdown",
   "id": "b34cad47",
   "metadata": {},
   "source": [
    "## LLM-as-a-Judge"
   ]
  },
  {
   "cell_type": "markdown",
   "id": "5a51d043",
   "metadata": {},
   "source": [
    "### Generate answers"
   ]
  },
  {
   "cell_type": "code",
   "execution_count": null,
   "id": "338707c0",
   "metadata": {},
   "outputs": [
    {
     "data": {
      "application/vnd.jupyter.widget-view+json": {
       "model_id": "fa755a9c470943b7b8be2438e326c31a",
       "version_major": 2,
       "version_minor": 0
      },
      "text/plain": [
       "Processing:   0%|          | 0/200 [00:00<?, ?it/s]"
      ]
     },
     "metadata": {},
     "output_type": "display_data"
    }
   ],
   "source": [
    "import time\n",
    "\n",
    "llm_eval_df = gt_df.sample(200, random_state=42)\n",
    "\n",
    "responses = []\n",
    "for _, row in tqdm(llm_eval_df.iterrows(), total=len(llm_eval_df), desc=\"Processing\"):\n",
    "    query = row.question\n",
    "    categories_list = row.categories.split(\",\")\n",
    "\n",
    "    response_bs = rag_pipeline(query, categories_list, mode=\"base\")\n",
    "    time.sleep(5)\n",
    "    response_cts = rag_pipeline(query, categories_list, mode=\"cts\")\n",
    "    time.sleep(5)\n",
    "    response_fs = rag_pipeline(query, categories_list, mode=\"fs\")\n",
    "    time.sleep(5)\n",
    "\n",
    "    responses.append({\"question\":query,\n",
    "                      \"categories\":row.categories,\n",
    "                      \"answer_base\":response_bs,\n",
    "                      \"answer_cts\":response_cts,\n",
    "                      \"answer_fs\":response_fs,\n",
    "                      \"relevant_document_ids\": row.relevant_document_ids,\n",
    "                      \"authors\": row.authors,\n",
    "                      \"year\": row.year\n",
    "                      })\n",
    "    \n",
    "pd.DataFrame(responses).to_csv(DATA_PATH+\"llm_responses.csv\", index=False)"
   ]
  },
  {
   "cell_type": "code",
   "execution_count": null,
   "id": "fee01ac4",
   "metadata": {},
   "outputs": [
    {
     "data": {
      "text/html": [
       "<div>\n",
       "<style scoped>\n",
       "    .dataframe tbody tr th:only-of-type {\n",
       "        vertical-align: middle;\n",
       "    }\n",
       "\n",
       "    .dataframe tbody tr th {\n",
       "        vertical-align: top;\n",
       "    }\n",
       "\n",
       "    .dataframe thead th {\n",
       "        text-align: right;\n",
       "    }\n",
       "</style>\n",
       "<table border=\"1\" class=\"dataframe\">\n",
       "  <thead>\n",
       "    <tr style=\"text-align: right;\">\n",
       "      <th></th>\n",
       "      <th>question</th>\n",
       "      <th>categories</th>\n",
       "      <th>answer_base</th>\n",
       "      <th>answer_cts</th>\n",
       "      <th>answer_fs</th>\n",
       "      <th>relevant_document_ids</th>\n",
       "      <th>authors</th>\n",
       "      <th>year</th>\n",
       "      <th>evaluation</th>\n",
       "      <th>Best</th>\n",
       "      <th>Reason</th>\n",
       "      <th>Base_Relevance</th>\n",
       "      <th>Base_Faithfulness</th>\n",
       "      <th>Base_Clarity</th>\n",
       "      <th>CTS_Relevance</th>\n",
       "      <th>CTS_Faithfulness</th>\n",
       "      <th>CTS_Clarity</th>\n",
       "      <th>FS_Relevance</th>\n",
       "      <th>FS_Faithfulness</th>\n",
       "      <th>FS_Clarity</th>\n",
       "    </tr>\n",
       "  </thead>\n",
       "  <tbody>\n",
       "    <tr>\n",
       "      <th>0</th>\n",
       "      <td>How can these methods be optimized for low res...</td>\n",
       "      <td>cs.CL</td>\n",
       "      <td>Answer: To optimize methods for low-resource l...</td>\n",
       "      <td>Answer:To optimize methods for low-resource la...</td>\n",
       "      <td>To optimize methods for low-resource languages...</td>\n",
       "      <td>11107</td>\n",
       "      <td>Baraa Hikal, Ahmed Nasreldin, Ali Hamdi, Ammar...</td>\n",
       "      <td>2025</td>\n",
       "      <td>Answer A: Relevance [4.5/5], Faithfulness [4....</td>\n",
       "      <td>CTS</td>\n",
       "      <td>Answer CTS provides a more detailed and compre...</td>\n",
       "      <td>4.5</td>\n",
       "      <td>4.5</td>\n",
       "      <td>4.50</td>\n",
       "      <td>5.0</td>\n",
       "      <td>5.00</td>\n",
       "      <td>4.75</td>\n",
       "      <td>5.0</td>\n",
       "      <td>5.00</td>\n",
       "      <td>4.25</td>\n",
       "    </tr>\n",
       "    <tr>\n",
       "      <th>1</th>\n",
       "      <td>Can evolutionary search improve algorithm disc...</td>\n",
       "      <td>cs.AI, cs.LG, cs.NE</td>\n",
       "      <td>Answer: Yes, evolutionary search can improve a...</td>\n",
       "      <td>Answer:Yes, evolutionary search can improve al...</td>\n",
       "      <td>Yes, evolutionary search can improve algorithm...</td>\n",
       "      <td>22451</td>\n",
       "      <td>Anja Surina, Amin Mansouri, Lars Quaedvlieg, A...</td>\n",
       "      <td>2025</td>\n",
       "      <td>Answer A: Relevance [5/5], Faithfulness [4.5/...</td>\n",
       "      <td>Base</td>\n",
       "      <td>Answer Base provides a comprehensive and detai...</td>\n",
       "      <td>5.0</td>\n",
       "      <td>4.5</td>\n",
       "      <td>4.50</td>\n",
       "      <td>5.0</td>\n",
       "      <td>4.50</td>\n",
       "      <td>4.50</td>\n",
       "      <td>5.0</td>\n",
       "      <td>4.00</td>\n",
       "      <td>4.00</td>\n",
       "    </tr>\n",
       "    <tr>\n",
       "      <th>2</th>\n",
       "      <td>How do these models learn and adapt bidding be...</td>\n",
       "      <td>cs.LG, cs.AI, cs.MA</td>\n",
       "      <td>Answer: These models learn and adapt their bid...</td>\n",
       "      <td>Answer:These models learn and adapt their bidd...</td>\n",
       "      <td>These models learn and adapt bidding behavior ...</td>\n",
       "      <td>15543</td>\n",
       "      <td>Dom Huh, Prasant Mohapatra</td>\n",
       "      <td>2025</td>\n",
       "      <td>Answer A: Relevance [5/5], Faithfulness [4.5/...</td>\n",
       "      <td>CTS</td>\n",
       "      <td>The Chain-of-Thought (B) answer provides a mor...</td>\n",
       "      <td>5.0</td>\n",
       "      <td>4.5</td>\n",
       "      <td>4.75</td>\n",
       "      <td>5.0</td>\n",
       "      <td>5.00</td>\n",
       "      <td>4.25</td>\n",
       "      <td>5.0</td>\n",
       "      <td>4.75</td>\n",
       "      <td>4.50</td>\n",
       "    </tr>\n",
       "    <tr>\n",
       "      <th>3</th>\n",
       "      <td>How does this integration improve the decision...</td>\n",
       "      <td>cs.RO, cs.CV</td>\n",
       "      <td>Answer: Integrating advanced perception, reaso...</td>\n",
       "      <td>Answer:The integration of various advanced AI ...</td>\n",
       "      <td>The integration of advanced visual perception,...</td>\n",
       "      <td>8952</td>\n",
       "      <td>Sacha Morin, Kumaraditya Gupta, Mahtab Sandhu,...</td>\n",
       "      <td>2025</td>\n",
       "      <td>Answer A: Relevance [5/5], Faithfulness [4.5/...</td>\n",
       "      <td>Base</td>\n",
       "      <td>Answer Base provides a comprehensive and detai...</td>\n",
       "      <td>5.0</td>\n",
       "      <td>4.5</td>\n",
       "      <td>5.00</td>\n",
       "      <td>5.0</td>\n",
       "      <td>4.75</td>\n",
       "      <td>4.75</td>\n",
       "      <td>5.0</td>\n",
       "      <td>4.25</td>\n",
       "      <td>4.50</td>\n",
       "    </tr>\n",
       "    <tr>\n",
       "      <th>4</th>\n",
       "      <td>How do Conditional Generative Adversarial Netw...</td>\n",
       "      <td>cs.LG, cs.AI, stat.ML</td>\n",
       "      <td>Answer:Conditional Generative Adversarial Netw...</td>\n",
       "      <td>Answer:Conditional Generative Adversarial Netw...</td>\n",
       "      <td>Conditional Generative Adversarial Networks (c...</td>\n",
       "      <td>1712</td>\n",
       "      <td>Deddy Jobson, Eddy Hudson</td>\n",
       "      <td>2024</td>\n",
       "      <td>Answer A: Relevance [5/5], Faithfulness [4.5/...</td>\n",
       "      <td>CTS</td>\n",
       "      <td>Answer CTS provides a comprehensive and detail...</td>\n",
       "      <td>5.0</td>\n",
       "      <td>4.5</td>\n",
       "      <td>4.50</td>\n",
       "      <td>5.0</td>\n",
       "      <td>5.00</td>\n",
       "      <td>4.75</td>\n",
       "      <td>5.0</td>\n",
       "      <td>5.00</td>\n",
       "      <td>4.25</td>\n",
       "    </tr>\n",
       "  </tbody>\n",
       "</table>\n",
       "</div>"
      ],
      "text/plain": [
       "                                            question             categories  \\\n",
       "0  How can these methods be optimized for low res...                  cs.CL   \n",
       "1  Can evolutionary search improve algorithm disc...    cs.AI, cs.LG, cs.NE   \n",
       "2  How do these models learn and adapt bidding be...    cs.LG, cs.AI, cs.MA   \n",
       "3  How does this integration improve the decision...           cs.RO, cs.CV   \n",
       "4  How do Conditional Generative Adversarial Netw...  cs.LG, cs.AI, stat.ML   \n",
       "\n",
       "                                         answer_base  \\\n",
       "0  Answer: To optimize methods for low-resource l...   \n",
       "1  Answer: Yes, evolutionary search can improve a...   \n",
       "2  Answer: These models learn and adapt their bid...   \n",
       "3  Answer: Integrating advanced perception, reaso...   \n",
       "4  Answer:Conditional Generative Adversarial Netw...   \n",
       "\n",
       "                                          answer_cts  \\\n",
       "0  Answer:To optimize methods for low-resource la...   \n",
       "1  Answer:Yes, evolutionary search can improve al...   \n",
       "2  Answer:These models learn and adapt their bidd...   \n",
       "3  Answer:The integration of various advanced AI ...   \n",
       "4  Answer:Conditional Generative Adversarial Netw...   \n",
       "\n",
       "                                           answer_fs  relevant_document_ids  \\\n",
       "0  To optimize methods for low-resource languages...                  11107   \n",
       "1  Yes, evolutionary search can improve algorithm...                  22451   \n",
       "2  These models learn and adapt bidding behavior ...                  15543   \n",
       "3  The integration of advanced visual perception,...                   8952   \n",
       "4  Conditional Generative Adversarial Networks (c...                   1712   \n",
       "\n",
       "                                             authors  year  \\\n",
       "0  Baraa Hikal, Ahmed Nasreldin, Ali Hamdi, Ammar...  2025   \n",
       "1  Anja Surina, Amin Mansouri, Lars Quaedvlieg, A...  2025   \n",
       "2                         Dom Huh, Prasant Mohapatra  2025   \n",
       "3  Sacha Morin, Kumaraditya Gupta, Mahtab Sandhu,...  2025   \n",
       "4                          Deddy Jobson, Eddy Hudson  2024   \n",
       "\n",
       "                                          evaluation  Best  \\\n",
       "0   Answer A: Relevance [4.5/5], Faithfulness [4....   CTS   \n",
       "1   Answer A: Relevance [5/5], Faithfulness [4.5/...  Base   \n",
       "2   Answer A: Relevance [5/5], Faithfulness [4.5/...   CTS   \n",
       "3   Answer A: Relevance [5/5], Faithfulness [4.5/...  Base   \n",
       "4   Answer A: Relevance [5/5], Faithfulness [4.5/...   CTS   \n",
       "\n",
       "                                              Reason  Base_Relevance  \\\n",
       "0  Answer CTS provides a more detailed and compre...             4.5   \n",
       "1  Answer Base provides a comprehensive and detai...             5.0   \n",
       "2  The Chain-of-Thought (B) answer provides a mor...             5.0   \n",
       "3  Answer Base provides a comprehensive and detai...             5.0   \n",
       "4  Answer CTS provides a comprehensive and detail...             5.0   \n",
       "\n",
       "   Base_Faithfulness  Base_Clarity  CTS_Relevance  CTS_Faithfulness  \\\n",
       "0                4.5          4.50            5.0              5.00   \n",
       "1                4.5          4.50            5.0              4.50   \n",
       "2                4.5          4.75            5.0              5.00   \n",
       "3                4.5          5.00            5.0              4.75   \n",
       "4                4.5          4.50            5.0              5.00   \n",
       "\n",
       "   CTS_Clarity  FS_Relevance  FS_Faithfulness  FS_Clarity  \n",
       "0         4.75           5.0             5.00        4.25  \n",
       "1         4.50           5.0             4.00        4.00  \n",
       "2         4.25           5.0             4.75        4.50  \n",
       "3         4.75           5.0             4.25        4.50  \n",
       "4         4.75           5.0             5.00        4.25  "
      ]
     },
     "execution_count": 90,
     "metadata": {},
     "output_type": "execute_result"
    }
   ],
   "source": [
    "df_eval = pd.read_csv(DATA_PATH+\"llm_responses.csv\")\n",
    "df_eval.head()"
   ]
  },
  {
   "cell_type": "markdown",
   "id": "dcf5ae18",
   "metadata": {},
   "source": [
    "### Call to the Judge"
   ]
  },
  {
   "cell_type": "code",
   "execution_count": 63,
   "id": "a2134e99",
   "metadata": {},
   "outputs": [],
   "source": [
    "def call2judge(question, context, responses):\n",
    "   prompt_template = \"\"\"You are an impartial evaluator. \n",
    "Your task is to judge the quality of three answers (A=Baseline, B=Chain-of-Thought, C=Few-Shot) for the same query and context. \n",
    "Do NOT give individual justifications.\n",
    "Output ONLY the scores for each answer and then select the best overall answer with a single explanation.\n",
    "\n",
    "Query: {query}\n",
    "Context: {context}\n",
    "\n",
    "Answer A (Baseline): {base}\n",
    "Answer B (Chain-of-Thought): {cts}\n",
    "Answer C (Few-Shot): {fs}\n",
    "\n",
    "Evaluate using these criteria (1–5):\n",
    "- Relevance\n",
    "- Faithfulness\n",
    "- Clarity\n",
    "\n",
    "Output strictly in this format:\n",
    "\n",
    "Answer A: Relevance [x/5], Faithfulness [x/5], Clarity [x/5]\n",
    "Answer B: Relevance [x/5], Faithfulness [x/5], Clarity [x/5]\n",
    "Answer C: Relevance [x/5], Faithfulness [x/5], Clarity [x/5]\n",
    "\n",
    "Best overall answer: [A/B/C]\n",
    "Reason: ...\n",
    "\"\"\"\n",
    "\n",
    "   prompt_eval = prompt_template.format(query=question,\n",
    "                                        context=context,\n",
    "                                        base=responses[\"base\"],\n",
    "                                        cts=responses[\"cts\"],\n",
    "                                        fs=responses[\"fs\"])\n",
    "   \n",
    "   response = ollama.chat(\n",
    "      model= \"mistral:7b-instruct\",\n",
    "      messages=[{\"role\": \"user\", \"content\": prompt_eval}],\n",
    "      options={\n",
    "         \"temperature\": 0\n",
    "         }\n",
    "      )\n",
    "\n",
    "   content = response['message']['content']\n",
    "   return content\n",
    "\n",
    "def LLM_evaluator(question, ids, responses):\n",
    "   results = client_qdrant.scroll(\n",
    "      collection_name=\"articles-rag-cos\",\n",
    "      scroll_filter=models.Filter(\n",
    "         must=[\n",
    "            models.FieldCondition(\n",
    "               key=\"id\",\n",
    "               match=models.MatchAny(any=[11107])\n",
    "            )\n",
    "         ]\n",
    "      ),\n",
    "      limit=10\n",
    "   )\n",
    "   context = results[0][0].payload['abstract_chunk']\n",
    "   return call2judge(question, context, responses)"
   ]
  },
  {
   "cell_type": "code",
   "execution_count": 66,
   "id": "60cf172c",
   "metadata": {},
   "outputs": [
    {
     "data": {
      "application/vnd.jupyter.widget-view+json": {
       "model_id": "61d812dea1a44362b6b03d3111f1fc41",
       "version_major": 2,
       "version_minor": 0
      },
      "text/plain": [
       "Processing:   0%|          | 0/200 [00:00<?, ?it/s]"
      ]
     },
     "metadata": {},
     "output_type": "display_data"
    }
   ],
   "source": [
    "LLM_evaluations = []\n",
    "\n",
    "for _, row in tqdm(df_eval.iterrows(), total=len(df_eval), desc=\"Processing\"):\n",
    "    responses = {\"base\":row.answer_base.split(\"References:\")[0],\n",
    "                 \"cts\":row.answer_cts.split(\"References:\")[0],\n",
    "                 \"fs\":row.answer_fs.split(\"References:\")[0]}\n",
    "    LLM_evaluations.append(LLM_evaluator(row.question, row.relevant_document_ids, responses))"
   ]
  },
  {
   "cell_type": "markdown",
   "id": "92bff764",
   "metadata": {},
   "source": [
    "#### Clean evaluations"
   ]
  },
  {
   "cell_type": "code",
   "execution_count": null,
   "id": "c4ef913d",
   "metadata": {},
   "outputs": [],
   "source": [
    "mapping = {'A': 'Base', 'B': 'CTS', 'C': 'FS'}\n",
    "\n",
    "data = []\n",
    "\n",
    "for t in LLM_evaluations:\n",
    "    scores = re.findall(r'Answer ([ABC]): Relevance ?\\[?(\\d+(?:\\.\\d+)?)/?5?\\]?,? Faithfulness ?\\[?(\\d+(?:\\.\\d+)?)/?5?\\]?,? Clarity ?\\[?(\\d+(?:\\.\\d+)?)/?5?\\]?', t)\n",
    "    best = re.search(r'Best overall answer: ([ABC])', t)\n",
    "    reason = re.search(r'Reason: (.*)', t, re.DOTALL)\n",
    "\n",
    "    reason_text = reason.group(1).strip() if reason else None\n",
    "    if reason_text:\n",
    "        for k, v in mapping.items():\n",
    "            reason_text = re.sub(rf'Answer {k}\\b', f'Answer {v}', reason_text)\n",
    "\n",
    "    row = {'Best': mapping[best.group(1)] if best else None, 'Reason': reason_text}\n",
    "    for ans, rel, fai, cla in scores:\n",
    "        row[f'{mapping[ans]}_Relevance'] = float(rel)\n",
    "        row[f'{mapping[ans]}_Faithfulness'] = float(fai)\n",
    "        row[f'{mapping[ans]}_Clarity'] = float(cla)\n",
    "    data.append(row)\n",
    "\n",
    "df_aux = pd.DataFrame(data)\n",
    "df_eval_f = pd.concat([df_eval, df_aux], axis=1)\n",
    "df_eval_f.to_csv(DATA_PATH+\"llm_responses.csv\", index=False)"
   ]
  },
  {
   "cell_type": "code",
   "execution_count": 104,
   "id": "48baf587",
   "metadata": {},
   "outputs": [
    {
     "data": {
      "text/html": [
       "<div>\n",
       "<style scoped>\n",
       "    .dataframe tbody tr th:only-of-type {\n",
       "        vertical-align: middle;\n",
       "    }\n",
       "\n",
       "    .dataframe tbody tr th {\n",
       "        vertical-align: top;\n",
       "    }\n",
       "\n",
       "    .dataframe thead th {\n",
       "        text-align: right;\n",
       "    }\n",
       "</style>\n",
       "<table border=\"1\" class=\"dataframe\">\n",
       "  <thead>\n",
       "    <tr style=\"text-align: right;\">\n",
       "      <th></th>\n",
       "      <th>question</th>\n",
       "      <th>categories</th>\n",
       "      <th>answer_base</th>\n",
       "      <th>answer_cts</th>\n",
       "      <th>answer_fs</th>\n",
       "      <th>relevant_document_ids</th>\n",
       "      <th>authors</th>\n",
       "      <th>year</th>\n",
       "      <th>evaluation</th>\n",
       "      <th>Best</th>\n",
       "      <th>Reason</th>\n",
       "      <th>Base_Relevance</th>\n",
       "      <th>Base_Faithfulness</th>\n",
       "      <th>Base_Clarity</th>\n",
       "      <th>CTS_Relevance</th>\n",
       "      <th>CTS_Faithfulness</th>\n",
       "      <th>CTS_Clarity</th>\n",
       "      <th>FS_Relevance</th>\n",
       "      <th>FS_Faithfulness</th>\n",
       "      <th>FS_Clarity</th>\n",
       "    </tr>\n",
       "  </thead>\n",
       "  <tbody>\n",
       "    <tr>\n",
       "      <th>0</th>\n",
       "      <td>How can these methods be optimized for low res...</td>\n",
       "      <td>cs.CL</td>\n",
       "      <td>Answer: To optimize methods for low-resource l...</td>\n",
       "      <td>Answer:To optimize methods for low-resource la...</td>\n",
       "      <td>To optimize methods for low-resource languages...</td>\n",
       "      <td>11107</td>\n",
       "      <td>Baraa Hikal, Ahmed Nasreldin, Ali Hamdi, Ammar...</td>\n",
       "      <td>2025</td>\n",
       "      <td>Answer A: Relevance [4.5/5], Faithfulness [4....</td>\n",
       "      <td>CTS</td>\n",
       "      <td>Answer CTS provides a more detailed and compre...</td>\n",
       "      <td>4.5</td>\n",
       "      <td>4.5</td>\n",
       "      <td>4.50</td>\n",
       "      <td>5.0</td>\n",
       "      <td>5.00</td>\n",
       "      <td>4.75</td>\n",
       "      <td>5.0</td>\n",
       "      <td>5.00</td>\n",
       "      <td>4.25</td>\n",
       "    </tr>\n",
       "    <tr>\n",
       "      <th>1</th>\n",
       "      <td>Can evolutionary search improve algorithm disc...</td>\n",
       "      <td>cs.AI, cs.LG, cs.NE</td>\n",
       "      <td>Answer: Yes, evolutionary search can improve a...</td>\n",
       "      <td>Answer:Yes, evolutionary search can improve al...</td>\n",
       "      <td>Yes, evolutionary search can improve algorithm...</td>\n",
       "      <td>22451</td>\n",
       "      <td>Anja Surina, Amin Mansouri, Lars Quaedvlieg, A...</td>\n",
       "      <td>2025</td>\n",
       "      <td>Answer A: Relevance [5/5], Faithfulness [4.5/...</td>\n",
       "      <td>Base</td>\n",
       "      <td>Answer Base provides a comprehensive and detai...</td>\n",
       "      <td>5.0</td>\n",
       "      <td>4.5</td>\n",
       "      <td>4.50</td>\n",
       "      <td>5.0</td>\n",
       "      <td>4.50</td>\n",
       "      <td>4.50</td>\n",
       "      <td>5.0</td>\n",
       "      <td>4.00</td>\n",
       "      <td>4.00</td>\n",
       "    </tr>\n",
       "    <tr>\n",
       "      <th>2</th>\n",
       "      <td>How do these models learn and adapt bidding be...</td>\n",
       "      <td>cs.LG, cs.AI, cs.MA</td>\n",
       "      <td>Answer: These models learn and adapt their bid...</td>\n",
       "      <td>Answer:These models learn and adapt their bidd...</td>\n",
       "      <td>These models learn and adapt bidding behavior ...</td>\n",
       "      <td>15543</td>\n",
       "      <td>Dom Huh, Prasant Mohapatra</td>\n",
       "      <td>2025</td>\n",
       "      <td>Answer A: Relevance [5/5], Faithfulness [4.5/...</td>\n",
       "      <td>CTS</td>\n",
       "      <td>The Chain-of-Thought (B) answer provides a mor...</td>\n",
       "      <td>5.0</td>\n",
       "      <td>4.5</td>\n",
       "      <td>4.75</td>\n",
       "      <td>5.0</td>\n",
       "      <td>5.00</td>\n",
       "      <td>4.25</td>\n",
       "      <td>5.0</td>\n",
       "      <td>4.75</td>\n",
       "      <td>4.50</td>\n",
       "    </tr>\n",
       "    <tr>\n",
       "      <th>3</th>\n",
       "      <td>How does this integration improve the decision...</td>\n",
       "      <td>cs.RO, cs.CV</td>\n",
       "      <td>Answer: Integrating advanced perception, reaso...</td>\n",
       "      <td>Answer:The integration of various advanced AI ...</td>\n",
       "      <td>The integration of advanced visual perception,...</td>\n",
       "      <td>8952</td>\n",
       "      <td>Sacha Morin, Kumaraditya Gupta, Mahtab Sandhu,...</td>\n",
       "      <td>2025</td>\n",
       "      <td>Answer A: Relevance [5/5], Faithfulness [4.5/...</td>\n",
       "      <td>Base</td>\n",
       "      <td>Answer Base provides a comprehensive and detai...</td>\n",
       "      <td>5.0</td>\n",
       "      <td>4.5</td>\n",
       "      <td>5.00</td>\n",
       "      <td>5.0</td>\n",
       "      <td>4.75</td>\n",
       "      <td>4.75</td>\n",
       "      <td>5.0</td>\n",
       "      <td>4.25</td>\n",
       "      <td>4.50</td>\n",
       "    </tr>\n",
       "    <tr>\n",
       "      <th>4</th>\n",
       "      <td>How do Conditional Generative Adversarial Netw...</td>\n",
       "      <td>cs.LG, cs.AI, stat.ML</td>\n",
       "      <td>Answer:Conditional Generative Adversarial Netw...</td>\n",
       "      <td>Answer:Conditional Generative Adversarial Netw...</td>\n",
       "      <td>Conditional Generative Adversarial Networks (c...</td>\n",
       "      <td>1712</td>\n",
       "      <td>Deddy Jobson, Eddy Hudson</td>\n",
       "      <td>2024</td>\n",
       "      <td>Answer A: Relevance [5/5], Faithfulness [4.5/...</td>\n",
       "      <td>CTS</td>\n",
       "      <td>Answer CTS provides a comprehensive and detail...</td>\n",
       "      <td>5.0</td>\n",
       "      <td>4.5</td>\n",
       "      <td>4.50</td>\n",
       "      <td>5.0</td>\n",
       "      <td>5.00</td>\n",
       "      <td>4.75</td>\n",
       "      <td>5.0</td>\n",
       "      <td>5.00</td>\n",
       "      <td>4.25</td>\n",
       "    </tr>\n",
       "  </tbody>\n",
       "</table>\n",
       "</div>"
      ],
      "text/plain": [
       "                                            question             categories  \\\n",
       "0  How can these methods be optimized for low res...                  cs.CL   \n",
       "1  Can evolutionary search improve algorithm disc...    cs.AI, cs.LG, cs.NE   \n",
       "2  How do these models learn and adapt bidding be...    cs.LG, cs.AI, cs.MA   \n",
       "3  How does this integration improve the decision...           cs.RO, cs.CV   \n",
       "4  How do Conditional Generative Adversarial Netw...  cs.LG, cs.AI, stat.ML   \n",
       "\n",
       "                                         answer_base  \\\n",
       "0  Answer: To optimize methods for low-resource l...   \n",
       "1  Answer: Yes, evolutionary search can improve a...   \n",
       "2  Answer: These models learn and adapt their bid...   \n",
       "3  Answer: Integrating advanced perception, reaso...   \n",
       "4  Answer:Conditional Generative Adversarial Netw...   \n",
       "\n",
       "                                          answer_cts  \\\n",
       "0  Answer:To optimize methods for low-resource la...   \n",
       "1  Answer:Yes, evolutionary search can improve al...   \n",
       "2  Answer:These models learn and adapt their bidd...   \n",
       "3  Answer:The integration of various advanced AI ...   \n",
       "4  Answer:Conditional Generative Adversarial Netw...   \n",
       "\n",
       "                                           answer_fs  relevant_document_ids  \\\n",
       "0  To optimize methods for low-resource languages...                  11107   \n",
       "1  Yes, evolutionary search can improve algorithm...                  22451   \n",
       "2  These models learn and adapt bidding behavior ...                  15543   \n",
       "3  The integration of advanced visual perception,...                   8952   \n",
       "4  Conditional Generative Adversarial Networks (c...                   1712   \n",
       "\n",
       "                                             authors  year  \\\n",
       "0  Baraa Hikal, Ahmed Nasreldin, Ali Hamdi, Ammar...  2025   \n",
       "1  Anja Surina, Amin Mansouri, Lars Quaedvlieg, A...  2025   \n",
       "2                         Dom Huh, Prasant Mohapatra  2025   \n",
       "3  Sacha Morin, Kumaraditya Gupta, Mahtab Sandhu,...  2025   \n",
       "4                          Deddy Jobson, Eddy Hudson  2024   \n",
       "\n",
       "                                          evaluation  Best  \\\n",
       "0   Answer A: Relevance [4.5/5], Faithfulness [4....   CTS   \n",
       "1   Answer A: Relevance [5/5], Faithfulness [4.5/...  Base   \n",
       "2   Answer A: Relevance [5/5], Faithfulness [4.5/...   CTS   \n",
       "3   Answer A: Relevance [5/5], Faithfulness [4.5/...  Base   \n",
       "4   Answer A: Relevance [5/5], Faithfulness [4.5/...   CTS   \n",
       "\n",
       "                                              Reason  Base_Relevance  \\\n",
       "0  Answer CTS provides a more detailed and compre...             4.5   \n",
       "1  Answer Base provides a comprehensive and detai...             5.0   \n",
       "2  The Chain-of-Thought (B) answer provides a mor...             5.0   \n",
       "3  Answer Base provides a comprehensive and detai...             5.0   \n",
       "4  Answer CTS provides a comprehensive and detail...             5.0   \n",
       "\n",
       "   Base_Faithfulness  Base_Clarity  CTS_Relevance  CTS_Faithfulness  \\\n",
       "0                4.5          4.50            5.0              5.00   \n",
       "1                4.5          4.50            5.0              4.50   \n",
       "2                4.5          4.75            5.0              5.00   \n",
       "3                4.5          5.00            5.0              4.75   \n",
       "4                4.5          4.50            5.0              5.00   \n",
       "\n",
       "   CTS_Clarity  FS_Relevance  FS_Faithfulness  FS_Clarity  \n",
       "0         4.75           5.0             5.00        4.25  \n",
       "1         4.50           5.0             4.00        4.00  \n",
       "2         4.25           5.0             4.75        4.50  \n",
       "3         4.75           5.0             4.25        4.50  \n",
       "4         4.75           5.0             5.00        4.25  "
      ]
     },
     "execution_count": 104,
     "metadata": {},
     "output_type": "execute_result"
    }
   ],
   "source": [
    "df_eval_f.head()"
   ]
  },
  {
   "cell_type": "markdown",
   "id": "3c97b37f",
   "metadata": {},
   "source": [
    "#### Best answer per prompting type"
   ]
  },
  {
   "cell_type": "code",
   "execution_count": 103,
   "id": "d4cd1a10",
   "metadata": {},
   "outputs": [
    {
     "data": {
      "text/plain": [
       "Best\n",
       "Base    115\n",
       "CTS      63\n",
       "FS       20\n",
       "Name: count, dtype: int64"
      ]
     },
     "execution_count": 103,
     "metadata": {},
     "output_type": "execute_result"
    }
   ],
   "source": [
    "df_eval_f.Best.value_counts()"
   ]
  },
  {
   "cell_type": "markdown",
   "id": "6e419be2",
   "metadata": {},
   "source": [
    "#### Relevance, Faithfulness and Clarity of anwsers per prompting type"
   ]
  },
  {
   "cell_type": "code",
   "execution_count": 126,
   "id": "d0fd4111",
   "metadata": {},
   "outputs": [
    {
     "data": {
      "image/png": "[encoded data removed]",
      "text/plain": [
       "<Figure size 3000x800 with 3 Axes>"
      ]
     },
     "metadata": {},
     "output_type": "display_data"
    }
   ],
   "source": [
    "import seaborn as sns\n",
    "import mplcyberpunk\n",
    "import matplotlib.pyplot as plt\n",
    "\n",
    "plt.style.use(\"cyberpunk\")\n",
    "\n",
    "plt.subplots(1, 3, figsize=(15, 4), dpi=200)\n",
    "\n",
    "for tp in [\"Base\", \"CTS\", \"FS\"]:\n",
    "    plt.subplot(1, 3, 1)\n",
    "    sns.kdeplot(data=df_eval_f, x=f\"{tp}_Relevance\", fill=True, label=tp)\n",
    "    plt.xlabel(\"Relevance\")\n",
    "    plt.legend()\n",
    "\n",
    "    plt.subplot(1, 3, 2)\n",
    "    sns.kdeplot(data=df_eval_f, x=f\"{tp}_Faithfulness\", fill=True, label=tp)\n",
    "    plt.xlabel(\"Faithfulness\")\n",
    "    plt.legend()\n",
    "\n",
    "    plt.subplot(1, 3, 3)\n",
    "    sns.kdeplot(data=df_eval_f, x=f\"{tp}_Clarity\", fill=True, label=tp)\n",
    "    plt.xlabel(\"Clarity\")\n",
    "    plt.legend();"
   ]
  },
  {
   "cell_type": "code",
   "execution_count": 1,
   "id": "6f3a0c61",
   "metadata": {},
   "outputs": [
    {
     "name": "stderr",
     "output_type": "stream",
     "text": [
      "[NbConvertApp] Converting notebook evaluations.ipynb to script\n",
      "[NbConvertApp] Writing 18479 bytes to evaluations.py\n"
     ]
    }
   ],
   "source": [
    "!jupyter nbconvert --to script evaluations.ipynb"
   ]
  }
 ],
 "metadata": {
  "kernelspec": {
   "display_name": "llmenvs",
   "language": "python",
   "name": "python3"
  },
  "language_info": {
   "codemirror_mode": {
    "name": "ipython",
    "version": 3
   },
   "file_extension": ".py",
   "mimetype": "text/x-python",
   "name": "python",
   "nbconvert_exporter": "python",
   "pygments_lexer": "ipython3",
   "version": "3.10.9"
  }
 },
 "nbformat": 4,
 "nbformat_minor": 5
}
